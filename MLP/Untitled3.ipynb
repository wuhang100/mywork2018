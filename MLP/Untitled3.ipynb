{
 "cells": [
  {
   "cell_type": "code",
   "execution_count": 1,
   "metadata": {},
   "outputs": [
    {
     "name": "stderr",
     "output_type": "stream",
     "text": [
      "Using TensorFlow backend.\n"
     ]
    },
    {
     "name": "stdout",
     "output_type": "stream",
     "text": [
      "TIME: 9s\n"
     ]
    }
   ],
   "source": [
    "import matplotlib.pyplot as plt\n",
    "import numpy as np\n",
    "from keras.layers.core import Dense, Activation, Dropout\n",
    "from keras.layers import Dense,Dropout,Flatten,Conv2D,MaxPooling2D\n",
    "from keras.models import Sequential, load_model\n",
    "import mysql.connector\n",
    "from keras.optimizers import Adam\n",
    "from sklearn import preprocessing\n",
    "import datetime\n",
    "cnx = mysql.connector.connect(user='root', password='941012',\n",
    "                              host='127.0.0.1',\n",
    "                              database='test0')\n",
    "cursor = cnx.cursor()\n",
    "query = (\"SELECT n1,n2,P1,T1,P2,T2 FROM test0.2016stablepoint LIMIT 1,25000\")\n",
    "cursor.execute(query)\n",
    "result=cursor.fetchall()\n",
    "x_list = np.array(result)\n",
    "scaler = preprocessing.StandardScaler().fit(x_list)\n",
    "train_x = scaler.transform(x_list)\n",
    "#print train_x\n",
    "query = (\"SELECT T34 FROM test0.2016stablepoint LIMIT 1,25000\")\n",
    "cursor.execute(query)\n",
    "result=cursor.fetchall()\n",
    "y_list = np.array(result)\n",
    "#print y_list\n",
    "#print np.hstack((train_x,y_list))\n",
    "x_list = np.hstack((train_x,y_list))\n",
    "row1 = int(round(0.1 * x_list.shape[0]))\n",
    "row2 = int(round(0.5 * x_list.shape[0]))\n",
    "row3 = int(round(0.6 * x_list.shape[0]))\n",
    "train = x_list[:row1, :]\n",
    "test = x_list[row2:row3, :]\n",
    "np.random.seed(10)\n",
    "np.random.shuffle(train)\n",
    "X_train = train[:,0:6]\n",
    "y_train = train[:,-1]\n",
    "np.random.seed(10)\n",
    "np.random.shuffle(test)\n",
    "X_test = test[:,0:6]\n",
    "y_test = test[:,-1]\n",
    "y_train = np.reshape(y_train, (y_train.shape[0],1))\n",
    "y_test = np.reshape(y_test, (y_test.shape[0],1))\n",
    "cursor.close()\n",
    "cnx.close()\n",
    "#print X_train\n",
    "#print y_train\n",
    "model = Sequential()\n",
    "model.add(Dense(200,activation='relu'))\n",
    "model.add(Dropout(0.2))\n",
    "model.add(Dense(200,activation='relu'))\n",
    "model.add(Dropout(0.2))\n",
    "model.add(Dense(1,activation='linear'))\n",
    "model.compile(loss='mse', optimizer='adam',metrics=['mae', 'mape'])\n",
    "starttime = datetime.datetime.now()\n",
    "model.fit(\n",
    "    X_train, y_train,\n",
    "    batch_size=50, epochs=170,validation_split=0.15, verbose=0)\n",
    "endtime = datetime.datetime.now()\n",
    "print 'TIME: '+str((endtime - starttime).seconds)+'s'"
   ]
  },
  {
   "cell_type": "code",
   "execution_count": 3,
   "metadata": {},
   "outputs": [
    {
     "data": {
      "image/png": "[encoded data removed]",
      "text/plain": [
       "<matplotlib.figure.Figure at 0x7f3664592fd0>"
      ]
     },
     "metadata": {},
     "output_type": "display_data"
    }
   ],
   "source": [
    "row2 = int(round(0.95 * x_list.shape[0]))\n",
    "row3 = int(round(1.0 * x_list.shape[0]))\n",
    "test = x_list[row2:row3, :]\n",
    "X_test = test[:,0:6]\n",
    "y_test = test[:,-1]\n",
    "y_test = np.reshape(y_test, (y_test.shape[0],1))\n",
    "predicted = model.predict(X_test)\n",
    "import matplotlib.pyplot as plt\n",
    "fig = plt.figure()\n",
    "ax = fig.add_subplot(111)\n",
    "a = np.load('/home/wuhang/LSTM_code/testout.npy')\n",
    "#ax.plot(a[0:50],label=\"Real\")\n",
    "ax.plot(y_test[0:50],label=\"Real\")\n",
    "ax.legend(loc='upper left')\n",
    "plt.plot(predicted[0:50],label=\"Prediction\")\n",
    "plt.legend(loc='upper left')\n",
    "#plt.ylim(1100,1450)\n",
    "acc = np.ones((y_test.shape[0],1))-abs((predicted-y_test)/y_test)\n",
    "acc = round(np.mean(acc),5)\n",
    "plt.title('Accuracy:'+str(100*acc)+'%')\n",
    "plt.show()\n",
    "from keras.utils import plot_model\n",
    "plot_model(model, to_file='model.png', show_shapes=True, show_layer_names=True)"
   ]
  },
  {
   "cell_type": "code",
   "execution_count": 9,
   "metadata": {},
   "outputs": [
    {
     "data": {
      "text/plain": [
       "99.40549999999999"
      ]
     },
     "execution_count": 9,
     "metadata": {},
     "output_type": "execute_result"
    }
   ],
   "source": [
    "np.mean([99.692,99.326,99.466,99.138])"
   ]
  },
  {
   "cell_type": "code",
   "execution_count": null,
   "metadata": {
    "collapsed": true
   },
   "outputs": [],
   "source": []
  }
 ],
 "metadata": {
  "kernelspec": {
   "display_name": "Python 2",
   "language": "python",
   "name": "python2"
  },
  "language_info": {
   "codemirror_mode": {
    "name": "ipython",
    "version": 2
   },
   "file_extension": ".py",
   "mimetype": "text/x-python",
   "name": "python",
   "nbconvert_exporter": "python",
   "pygments_lexer": "ipython2",
   "version": "2.7.13"
  }
 },
 "nbformat": 4,
 "nbformat_minor": 2
}
