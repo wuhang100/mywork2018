{
 "cells": [
  {
   "cell_type": "code",
   "execution_count": 1,
   "metadata": {},
   "outputs": [
    {
     "name": "stderr",
     "output_type": "stream",
     "text": [
      "Using TensorFlow backend.\n"
     ]
    }
   ],
   "source": [
    "import matplotlib.pyplot as plt\n",
    "import numpy as np\n",
    "from keras.layers.core import Dense, Activation, Dropout\n",
    "from keras.layers import Dense,Dropout,Flatten,Conv2D,MaxPooling2D\n",
    "from keras.models import Sequential, load_model\n",
    "import mysql.connector\n",
    "from keras.optimizers import Adam\n",
    "from sklearn import preprocessing\n",
    "import datetime\n",
    "cnx = mysql.connector.connect(user='root', password='941012',\n",
    "                              host='127.0.0.1',\n",
    "                              database='test0')\n",
    "cursor = cnx.cursor()\n",
    "query = (\"SELECT n2,P1,T1,P2,T2 FROM test0.2016stablepoint LIMIT 1,25000\")\n",
    "cursor.execute(query)\n",
    "result=cursor.fetchall()\n",
    "x_list = np.array(result)\n",
    "scaler = preprocessing.StandardScaler().fit(x_list)\n",
    "train_x = scaler.transform(x_list)\n",
    "#print train_x\n",
    "query = (\"SELECT P34 FROM test0.2016stablepoint LIMIT 1,25000\")\n",
    "cursor.execute(query)\n",
    "result=cursor.fetchall()\n",
    "y_list = np.array(result)\n",
    "#print y_list\n",
    "#print np.hstack((train_x,y_list))\n",
    "x_list = np.hstack((train_x,y_list))\n",
    "result = []\n",
    "sequence_length = 5\n",
    "for index in range(len(x_list) - sequence_length + 1):\n",
    "    result.append(x_list[index: index + sequence_length])\n",
    "result = np.array(result)\n",
    "#np.random.seed(10)\n",
    "#np.random.shuffle(result)\n",
    "#print result\n",
    "row1 = int(round(0.8 * result.shape[0]))\n",
    "row2 = int(round(0.9 * result.shape[0]))\n",
    "train = result[:row1, :]\n",
    "test = result[row2:, :]\n",
    "np.random.seed(10)\n",
    "np.random.shuffle(train)\n",
    "X_train = train[:,:,0:5]\n",
    "y_train = train[:,-1, -1]\n",
    "np.random.seed(10)\n",
    "np.random.shuffle(test)\n",
    "X_test = test[:,:,0:5]\n",
    "y_test = test[:,-1, -1]\n",
    "y_train = np.reshape(y_train, (y_train.shape[0],1))\n",
    "y_test = np.reshape(y_test, (y_test.shape[0],1))\n",
    "cursor.close()\n",
    "cnx.close()\n",
    "#print X_train\n",
    "#print y_train"
   ]
  },
  {
   "cell_type": "code",
   "execution_count": 2,
   "metadata": {},
   "outputs": [
    {
     "name": "stdout",
     "output_type": "stream",
     "text": [
      "(19997, 5, 5, 1)\n",
      "(2500, 5, 5, 1)\n",
      "(19997, 1)\n",
      "(2500, 1)\n"
     ]
    }
   ],
   "source": [
    "X_train4D = X_train.reshape(X_train.shape[0],5,5,1).astype('float32')\n",
    "X_test4D = X_test.reshape(X_test.shape[0],5,5,1).astype('float32')\n",
    "print X_train4D.shape\n",
    "print X_test4D.shape\n",
    "print y_train.shape\n",
    "print y_test.shape"
   ]
  },
  {
   "cell_type": "code",
   "execution_count": 3,
   "metadata": {},
   "outputs": [
    {
     "name": "stdout",
     "output_type": "stream",
     "text": [
      "_________________________________________________________________\n",
      "Layer (type)                 Output Shape              Param #   \n",
      "=================================================================\n",
      "conv2d_1 (Conv2D)            (None, 5, 5, 4)           20        \n",
      "_________________________________________________________________\n",
      "dropout_1 (Dropout)          (None, 5, 5, 4)           0         \n",
      "_________________________________________________________________\n",
      "flatten_1 (Flatten)          (None, 100)               0         \n",
      "_________________________________________________________________\n",
      "dense_1 (Dense)              (None, 200)               20200     \n",
      "_________________________________________________________________\n",
      "dropout_2 (Dropout)          (None, 200)               0         \n",
      "_________________________________________________________________\n",
      "dense_2 (Dense)              (None, 200)               40200     \n",
      "_________________________________________________________________\n",
      "dropout_3 (Dropout)          (None, 200)               0         \n",
      "_________________________________________________________________\n",
      "dense_3 (Dense)              (None, 1)                 201       \n",
      "=================================================================\n",
      "Total params: 60,621\n",
      "Trainable params: 60,621\n",
      "Non-trainable params: 0\n",
      "_________________________________________________________________\n"
     ]
    }
   ],
   "source": [
    "model = Sequential()\n",
    "model.add(Conv2D(filters=4,\n",
    "                kernel_size=(2,2),\n",
    "                padding='same',\n",
    "                input_shape=(5,5,1),\n",
    "                activation='relu'))\n",
    "\n",
    "model.add(Dropout(0.1))\n",
    "model.add(Flatten())\n",
    "model.add(Dense(200,activation='relu'))\n",
    "model.add(Dropout(0.2))\n",
    "model.add(Dense(200,activation='relu'))\n",
    "model.add(Dropout(0.2))\n",
    "model.add(Dense(1,activation='linear'))\n",
    "model.compile(loss='mse', optimizer='adam',metrics=['mae', 'mape'])\n",
    "model.summary()"
   ]
  },
  {
   "cell_type": "code",
   "execution_count": 4,
   "metadata": {},
   "outputs": [
    {
     "name": "stdout",
     "output_type": "stream",
     "text": [
      "train time 59 s\n"
     ]
    }
   ],
   "source": [
    "starttime = datetime.datetime.now()\n",
    "model.fit(\n",
    "    X_train4D, y_train,\n",
    "    batch_size=50, epochs=80,validation_split=0.1, verbose=0)\n",
    "endtime = datetime.datetime.now()\n",
    "print 'train time '+str((endtime - starttime).seconds)+' s'"
   ]
  },
  {
   "cell_type": "code",
   "execution_count": 5,
   "metadata": {
    "collapsed": true
   },
   "outputs": [],
   "source": [
    "predicted = model.predict(X_test4D)\n",
    "#print predicted"
   ]
  },
  {
   "cell_type": "code",
   "execution_count": 1,
   "metadata": {},
   "outputs": [
    {
     "ename": "NameError",
     "evalue": "name 'y_test' is not defined",
     "output_type": "error",
     "traceback": [
      "\u001b[0;31m---------------------------------------------------------------------------\u001b[0m",
      "\u001b[0;31mNameError\u001b[0m                                 Traceback (most recent call last)",
      "\u001b[0;32m<ipython-input-1-c0579d00b990>\u001b[0m in \u001b[0;36m<module>\u001b[0;34m()\u001b[0m\n\u001b[1;32m      2\u001b[0m \u001b[0mfig\u001b[0m \u001b[0;34m=\u001b[0m \u001b[0mplt\u001b[0m\u001b[0;34m.\u001b[0m\u001b[0mfigure\u001b[0m\u001b[0;34m(\u001b[0m\u001b[0;34m)\u001b[0m\u001b[0;34m\u001b[0m\u001b[0m\n\u001b[1;32m      3\u001b[0m \u001b[0max\u001b[0m \u001b[0;34m=\u001b[0m \u001b[0mfig\u001b[0m\u001b[0;34m.\u001b[0m\u001b[0madd_subplot\u001b[0m\u001b[0;34m(\u001b[0m\u001b[0;36m111\u001b[0m\u001b[0;34m)\u001b[0m\u001b[0;34m\u001b[0m\u001b[0m\n\u001b[0;32m----> 4\u001b[0;31m \u001b[0max\u001b[0m\u001b[0;34m.\u001b[0m\u001b[0mplot\u001b[0m\u001b[0;34m(\u001b[0m\u001b[0my_test\u001b[0m\u001b[0;34m[\u001b[0m\u001b[0;36m0\u001b[0m\u001b[0;34m:\u001b[0m\u001b[0;36m50\u001b[0m\u001b[0;34m]\u001b[0m\u001b[0;34m,\u001b[0m\u001b[0mlabel\u001b[0m\u001b[0;34m=\u001b[0m\u001b[0;34m\"Real\"\u001b[0m\u001b[0;34m)\u001b[0m\u001b[0;34m\u001b[0m\u001b[0m\n\u001b[0m\u001b[1;32m      5\u001b[0m \u001b[0max\u001b[0m\u001b[0;34m.\u001b[0m\u001b[0mlegend\u001b[0m\u001b[0;34m(\u001b[0m\u001b[0mloc\u001b[0m\u001b[0;34m=\u001b[0m\u001b[0;34m'upper left'\u001b[0m\u001b[0;34m)\u001b[0m\u001b[0;34m\u001b[0m\u001b[0m\n\u001b[1;32m      6\u001b[0m \u001b[0mplt\u001b[0m\u001b[0;34m.\u001b[0m\u001b[0mplot\u001b[0m\u001b[0;34m(\u001b[0m\u001b[0mpredicted\u001b[0m\u001b[0;34m[\u001b[0m\u001b[0;36m0\u001b[0m\u001b[0;34m:\u001b[0m\u001b[0;36m50\u001b[0m\u001b[0;34m]\u001b[0m\u001b[0;34m,\u001b[0m\u001b[0mlabel\u001b[0m\u001b[0;34m=\u001b[0m\u001b[0;34m\"Prediction\"\u001b[0m\u001b[0;34m)\u001b[0m\u001b[0;34m\u001b[0m\u001b[0m\n",
      "\u001b[0;31mNameError\u001b[0m: name 'y_test' is not defined"
     ]
    }
   ],
   "source": [
    "import matplotlib.pyplot as plt\n",
    "fig = plt.figure()\n",
    "ax = fig.add_subplot(111)\n",
    "ax.plot(y_test[0:50],label=\"Real\")\n",
    "ax.legend(loc='upper left')\n",
    "plt.plot(predicted[0:50],label=\"Prediction\")\n",
    "plt.legend(loc='upper left')\n",
    "plt.ylim(10,60)\n",
    "acc = np.ones((y_test.shape[0],1))-abs((predicted-y_test)/y_test)\n",
    "acc = round(np.mean(acc),5)\n",
    "plt.title('Accuracy:'+str(100*acc)+'%')\n",
    "plt.show()\n",
    "from keras.utils import plot_model\n",
    "plot_model(model, to_file='model.png', show_shapes=True, show_layer_names=True)"
   ]
  },
  {
   "cell_type": "code",
   "execution_count": 6,
   "metadata": {},
   "outputs": [
    {
     "name": "stdout",
     "output_type": "stream",
     "text": [
      "[[49.05828857]\n",
      " [46.82295227]\n",
      " [47.70108032]\n",
      " [47.6730957 ]\n",
      " [46.76554871]\n",
      " [46.97032166]\n",
      " [48.93244171]\n",
      " [45.78124237]\n",
      " [49.02342224]\n",
      " [48.89259338]\n",
      " [49.0329361 ]\n",
      " [48.78486633]\n",
      " [46.88672638]\n",
      " [46.80773926]\n",
      " [49.05844116]\n",
      " [49.04650879]\n",
      " [46.90593719]\n",
      " [48.6788559 ]\n",
      " [46.81910706]]\n"
     ]
    }
   ],
   "source": [
    "print y_test[21:40]"
   ]
  },
  {
   "cell_type": "code",
   "execution_count": 7,
   "metadata": {},
   "outputs": [
    {
     "name": "stdout",
     "output_type": "stream",
     "text": [
      "[[49.0446701 ]\n",
      " [46.8411026 ]\n",
      " [47.73368835]\n",
      " [47.68197632]\n",
      " [46.79357147]\n",
      " [46.96838379]\n",
      " [48.8134613 ]\n",
      " [45.82444763]\n",
      " [49.02522278]\n",
      " [49.03032684]\n",
      " [49.0329361 ]\n",
      " [48.76895142]\n",
      " [46.88600922]\n",
      " [46.82792664]\n",
      " [49.04090881]\n",
      " [48.63806915]\n",
      " [46.89931488]\n",
      " [49.28115082]\n",
      " [46.79467773]]\n"
     ]
    }
   ],
   "source": [
    "a = np.load('/home/wuhang/LSTM_code/testout.npy')\n",
    "print a[21:40]"
   ]
  },
  {
   "cell_type": "code",
   "execution_count": 3,
   "metadata": {},
   "outputs": [
    {
     "name": "stdout",
     "output_type": "stream",
     "text": [
      "(19997, 5, 5, 1)\n",
      "(9998, 5, 5, 1)\n"
     ]
    }
   ],
   "source": [
    "import numpy as np\n",
    "import mysql.connector\n",
    "from sklearn import preprocessing\n",
    "cnx = mysql.connector.connect(user='root', password='941012',\n",
    "                              host='127.0.0.1',\n",
    "                              database='test0')\n",
    "cursor = cnx.cursor()\n",
    "query = (\"SELECT n2,P1,T1,P2,T2 FROM test0.2016stablepoint LIMIT 1,25000\")\n",
    "cursor.execute(query)\n",
    "result=cursor.fetchall()\n",
    "x_list = np.array(result)\n",
    "scaler = preprocessing.StandardScaler().fit(x_list)\n",
    "train_x = scaler.transform(x_list)\n",
    "#print train_x\n",
    "query = (\"SELECT P34 FROM test0.2016stablepoint LIMIT 1,25000\")\n",
    "cursor.execute(query)\n",
    "result=cursor.fetchall()\n",
    "y_list = np.array(result)\n",
    "#print y_list\n",
    "#print np.hstack((train_x,y_list))\n",
    "x_list = np.hstack((train_x,y_list))\n",
    "result = []\n",
    "sequence_length = 5\n",
    "for index in range(len(x_list) - sequence_length + 1):\n",
    "    result.append(x_list[index: index + sequence_length])\n",
    "result = np.array(result)\n",
    "#np.random.seed(10)\n",
    "#np.random.shuffle(result)\n",
    "#print result\n",
    "row1 = int(round(0.8 * result.shape[0]))\n",
    "row2 = int(round(0.9 * result.shape[0]))\n",
    "train = result[:row1, :]\n",
    "test = result[row2:, :]\n",
    "np.random.seed(10)\n",
    "np.random.shuffle(train)\n",
    "X_train = train[:,:,0:5]\n",
    "y_train = train[:,-1, -1]\n",
    "np.random.seed(10)\n",
    "np.random.shuffle(test)\n",
    "X_test = test[:,:,0:5]\n",
    "y_test = test[:,-1, -1]\n",
    "y_train = np.reshape(y_train, (y_train.shape[0],1))\n",
    "y_test = np.reshape(y_test, (y_test.shape[0],1))\n",
    "cursor.close()\n",
    "cnx.close()\n",
    "#print X_train\n",
    "#print y_train\n",
    "X_train4D = X_train.reshape(X_train.shape[0],5,5,1).astype('float32')\n",
    "X_test4D = X_test.reshape(X_test.shape[0],5,5,1).astype('float32')\n",
    "print X_train4D.shape\n",
    "a = np.array_split(X_train4D, 2, axis = 0)[1]\n",
    "print a.shape"
   ]
  },
  {
   "cell_type": "code",
   "execution_count": null,
   "metadata": {
    "collapsed": true
   },
   "outputs": [],
   "source": []
  }
 ],
 "metadata": {
  "kernelspec": {
   "display_name": "Python 2",
   "language": "python",
   "name": "python2"
  },
  "language_info": {
   "codemirror_mode": {
    "name": "ipython",
    "version": 2
   },
   "file_extension": ".py",
   "mimetype": "text/x-python",
   "name": "python",
   "nbconvert_exporter": "python",
   "pygments_lexer": "ipython2",
   "version": "2.7.13"
  }
 },
 "nbformat": 4,
 "nbformat_minor": 2
}
